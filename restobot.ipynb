{
  "cells": [
    {
      "cell_type": "code",
      "execution_count": 1,
      "metadata": {
        "id": "DYR3EJrJNR0P"
      },
      "outputs": [],
      "source": [
        "# prepare dataset\n",
        "import json\n",
        "import pandas as pd\n",
        "\n",
        "with open(\"intents.json\") as data_file:\n",
        "    data = json.load(data_file)"
      ]
    },
    {
      "cell_type": "code",
      "execution_count": 2,
      "metadata": {},
      "outputs": [
        {
          "data": {
            "text/plain": [
              "{'tag': 'salam-day',\n",
              " 'patterns': ['Selamat Pagi',\n",
              "  'Selamat Siang',\n",
              "  'Selamat Sore',\n",
              "  'Selamat Malam'],\n",
              " 'responses': ['Halo selamat juga, ada yang bisa saya bantu kah? silahkan']}"
            ]
          },
          "execution_count": 2,
          "metadata": {},
          "output_type": "execute_result"
        }
      ],
      "source": [
        "data['intents'][1]"
      ]
    },
    {
      "cell_type": "code",
      "execution_count": 3,
      "metadata": {
        "colab": {
          "base_uri": "https://localhost:8080/",
          "height": 363
        },
        "id": "h_WnFHVwNnOG",
        "outputId": "581090a2-abe3-4871-d833-480e05e09dcb"
      },
      "outputs": [
        {
          "data": {
            "text/html": [
              "<div>\n",
              "<style scoped>\n",
              "    .dataframe tbody tr th:only-of-type {\n",
              "        vertical-align: middle;\n",
              "    }\n",
              "\n",
              "    .dataframe tbody tr th {\n",
              "        vertical-align: top;\n",
              "    }\n",
              "\n",
              "    .dataframe thead th {\n",
              "        text-align: right;\n",
              "    }\n",
              "</style>\n",
              "<table border=\"1\" class=\"dataframe\">\n",
              "  <thead>\n",
              "    <tr style=\"text-align: right;\">\n",
              "      <th></th>\n",
              "      <th>text_input</th>\n",
              "      <th>intents</th>\n",
              "    </tr>\n",
              "  </thead>\n",
              "  <tbody>\n",
              "    <tr>\n",
              "      <th>0</th>\n",
              "      <td>Assalamualaikum</td>\n",
              "      <td>salam-formal</td>\n",
              "    </tr>\n",
              "    <tr>\n",
              "      <th>1</th>\n",
              "      <td>Assalamualaikum warahmatullahi wabarakatuh</td>\n",
              "      <td>salam-formal</td>\n",
              "    </tr>\n",
              "    <tr>\n",
              "      <th>2</th>\n",
              "      <td>Selamat Pagi</td>\n",
              "      <td>salam-day</td>\n",
              "    </tr>\n",
              "    <tr>\n",
              "      <th>3</th>\n",
              "      <td>Selamat Siang</td>\n",
              "      <td>salam-day</td>\n",
              "    </tr>\n",
              "    <tr>\n",
              "      <th>4</th>\n",
              "      <td>Selamat Sore</td>\n",
              "      <td>salam-day</td>\n",
              "    </tr>\n",
              "    <tr>\n",
              "      <th>5</th>\n",
              "      <td>Selamat Malam</td>\n",
              "      <td>salam-day</td>\n",
              "    </tr>\n",
              "    <tr>\n",
              "      <th>6</th>\n",
              "      <td>Hai</td>\n",
              "      <td>salam-usual</td>\n",
              "    </tr>\n",
              "    <tr>\n",
              "      <th>7</th>\n",
              "      <td>Hi</td>\n",
              "      <td>salam-usual</td>\n",
              "    </tr>\n",
              "    <tr>\n",
              "      <th>8</th>\n",
              "      <td>Halo</td>\n",
              "      <td>salam-usual</td>\n",
              "    </tr>\n",
              "    <tr>\n",
              "      <th>9</th>\n",
              "      <td>Permisi</td>\n",
              "      <td>salam-usual</td>\n",
              "    </tr>\n",
              "  </tbody>\n",
              "</table>\n",
              "</div>"
            ],
            "text/plain": [
              "                                   text_input       intents\n",
              "0                             Assalamualaikum  salam-formal\n",
              "1  Assalamualaikum warahmatullahi wabarakatuh  salam-formal\n",
              "2                                Selamat Pagi     salam-day\n",
              "3                               Selamat Siang     salam-day\n",
              "4                                Selamat Sore     salam-day\n",
              "5                               Selamat Malam     salam-day\n",
              "6                                         Hai   salam-usual\n",
              "7                                          Hi   salam-usual\n",
              "8                                        Halo   salam-usual\n",
              "9                                     Permisi   salam-usual"
            ]
          },
          "execution_count": 3,
          "metadata": {},
          "output_type": "execute_result"
        }
      ],
      "source": [
        "text_input = []\n",
        "intents = []\n",
        "\n",
        "for intent in data['intents']:\n",
        "    for pattern in intent['patterns']:\n",
        "        text_input.append(pattern)\n",
        "        intents.append(intent['tag'])\n",
        "\n",
        "df = pd.DataFrame({'text_input': text_input,\n",
        "                    'intents': intents})\n",
        "\n",
        "df.head(10)"
      ]
    },
    {
      "cell_type": "code",
      "execution_count": 4,
      "metadata": {
        "colab": {
          "base_uri": "https://localhost:8080/",
          "height": 206
        },
        "id": "6FDLb8_GNuAS",
        "outputId": "3677020a-76da-43e9-dc16-865ddbc252d6"
      },
      "outputs": [
        {
          "data": {
            "text/html": [
              "<div>\n",
              "<style scoped>\n",
              "    .dataframe tbody tr th:only-of-type {\n",
              "        vertical-align: middle;\n",
              "    }\n",
              "\n",
              "    .dataframe tbody tr th {\n",
              "        vertical-align: top;\n",
              "    }\n",
              "\n",
              "    .dataframe thead th {\n",
              "        text-align: right;\n",
              "    }\n",
              "</style>\n",
              "<table border=\"1\" class=\"dataframe\">\n",
              "  <thead>\n",
              "    <tr style=\"text-align: right;\">\n",
              "      <th></th>\n",
              "      <th>text_input</th>\n",
              "      <th>intents</th>\n",
              "    </tr>\n",
              "  </thead>\n",
              "  <tbody>\n",
              "    <tr>\n",
              "      <th>53</th>\n",
              "      <td>Sudah</td>\n",
              "      <td>finish</td>\n",
              "    </tr>\n",
              "    <tr>\n",
              "      <th>54</th>\n",
              "      <td>Selesai</td>\n",
              "      <td>finish</td>\n",
              "    </tr>\n",
              "    <tr>\n",
              "      <th>55</th>\n",
              "      <td>Sampai jumpa</td>\n",
              "      <td>finish</td>\n",
              "    </tr>\n",
              "    <tr>\n",
              "      <th>56</th>\n",
              "      <td>Bye</td>\n",
              "      <td>finish</td>\n",
              "    </tr>\n",
              "    <tr>\n",
              "      <th>57</th>\n",
              "      <td>Terima Kasih</td>\n",
              "      <td>finish</td>\n",
              "    </tr>\n",
              "  </tbody>\n",
              "</table>\n",
              "</div>"
            ],
            "text/plain": [
              "      text_input intents\n",
              "53         Sudah  finish\n",
              "54       Selesai  finish\n",
              "55  Sampai jumpa  finish\n",
              "56           Bye  finish\n",
              "57  Terima Kasih  finish"
            ]
          },
          "execution_count": 4,
          "metadata": {},
          "output_type": "execute_result"
        }
      ],
      "source": [
        "df.tail(5)"
      ]
    },
    {
      "cell_type": "code",
      "execution_count": 5,
      "metadata": {
        "colab": {
          "base_uri": "https://localhost:8080/"
        },
        "id": "i7alN_C8N3CU",
        "outputId": "d2049cb2-006b-49a4-c979-3b05cb4a3b4b"
      },
      "outputs": [
        {
          "data": {
            "text/plain": [
              "jumlah          12\n",
              "pesan            9\n",
              "salam-usual      8\n",
              "menu             7\n",
              "feedback2        7\n",
              "finish           5\n",
              "salam-day        4\n",
              "feedback1        4\n",
              "salam-formal     2\n",
              "Name: intents, dtype: int64"
            ]
          },
          "execution_count": 5,
          "metadata": {},
          "output_type": "execute_result"
        }
      ],
      "source": [
        "df.intents.value_counts()"
      ]
    },
    {
      "cell_type": "code",
      "execution_count": 6,
      "metadata": {
        "id": "abxjKDZON9LA"
      },
      "outputs": [],
      "source": [
        "# data cleansing\n",
        "import string\n",
        "\n",
        "# convert lowercase\n",
        "df.text_input = df.text_input.apply(lambda x: x.lower())\n",
        "\n",
        "# remove punctuation\n",
        "exclude = set(string.punctuation)\n",
        "df.text_input = df.text_input.apply(lambda x: ''.join(ch for ch in x if ch not in exclude))"
      ]
    },
    {
      "cell_type": "code",
      "execution_count": 7,
      "metadata": {
        "id": "kculNsbNOAs7"
      },
      "outputs": [
        {
          "data": {
            "text/plain": [
              "array([[0., 0., 0., 0., 0., 0., 0., 1., 0.],\n",
              "       [0., 0., 0., 0., 0., 0., 0., 1., 0.],\n",
              "       [0., 0., 0., 0., 0., 0., 1., 0., 0.],\n",
              "       [0., 0., 0., 0., 0., 0., 1., 0., 0.],\n",
              "       [0., 0., 0., 0., 0., 0., 1., 0., 0.],\n",
              "       [0., 0., 0., 0., 0., 0., 1., 0., 0.],\n",
              "       [0., 0., 0., 0., 0., 0., 0., 0., 1.],\n",
              "       [0., 0., 0., 0., 0., 0., 0., 0., 1.],\n",
              "       [0., 0., 0., 0., 0., 0., 0., 0., 1.],\n",
              "       [0., 0., 0., 0., 0., 0., 0., 0., 1.],\n",
              "       [0., 0., 0., 0., 0., 0., 0., 0., 1.],\n",
              "       [0., 0., 0., 0., 0., 0., 0., 0., 1.],\n",
              "       [0., 0., 0., 0., 0., 0., 0., 0., 1.],\n",
              "       [0., 0., 0., 0., 0., 0., 0., 0., 1.],\n",
              "       [0., 0., 0., 0., 1., 0., 0., 0., 0.],\n",
              "       [0., 0., 0., 0., 1., 0., 0., 0., 0.],\n",
              "       [0., 0., 0., 0., 1., 0., 0., 0., 0.],\n",
              "       [0., 0., 0., 0., 1., 0., 0., 0., 0.],\n",
              "       [0., 0., 0., 0., 1., 0., 0., 0., 0.],\n",
              "       [0., 0., 0., 0., 1., 0., 0., 0., 0.],\n",
              "       [0., 0., 0., 0., 1., 0., 0., 0., 0.],\n",
              "       [0., 0., 0., 0., 0., 1., 0., 0., 0.],\n",
              "       [0., 0., 0., 0., 0., 1., 0., 0., 0.],\n",
              "       [0., 0., 0., 0., 0., 1., 0., 0., 0.],\n",
              "       [0., 0., 0., 0., 0., 1., 0., 0., 0.],\n",
              "       [0., 0., 0., 0., 0., 1., 0., 0., 0.],\n",
              "       [0., 0., 0., 0., 0., 1., 0., 0., 0.],\n",
              "       [0., 0., 0., 0., 0., 1., 0., 0., 0.],\n",
              "       [0., 0., 0., 0., 0., 1., 0., 0., 0.],\n",
              "       [0., 0., 0., 0., 0., 1., 0., 0., 0.],\n",
              "       [0., 0., 0., 1., 0., 0., 0., 0., 0.],\n",
              "       [0., 0., 0., 1., 0., 0., 0., 0., 0.],\n",
              "       [0., 0., 0., 1., 0., 0., 0., 0., 0.],\n",
              "       [0., 0., 0., 1., 0., 0., 0., 0., 0.],\n",
              "       [0., 0., 0., 1., 0., 0., 0., 0., 0.],\n",
              "       [0., 0., 0., 1., 0., 0., 0., 0., 0.],\n",
              "       [0., 0., 0., 1., 0., 0., 0., 0., 0.],\n",
              "       [0., 0., 0., 1., 0., 0., 0., 0., 0.],\n",
              "       [0., 0., 0., 1., 0., 0., 0., 0., 0.],\n",
              "       [0., 0., 0., 1., 0., 0., 0., 0., 0.],\n",
              "       [0., 0., 0., 1., 0., 0., 0., 0., 0.],\n",
              "       [0., 0., 0., 1., 0., 0., 0., 0., 0.],\n",
              "       [1., 0., 0., 0., 0., 0., 0., 0., 0.],\n",
              "       [1., 0., 0., 0., 0., 0., 0., 0., 0.],\n",
              "       [1., 0., 0., 0., 0., 0., 0., 0., 0.],\n",
              "       [1., 0., 0., 0., 0., 0., 0., 0., 0.],\n",
              "       [0., 1., 0., 0., 0., 0., 0., 0., 0.],\n",
              "       [0., 1., 0., 0., 0., 0., 0., 0., 0.],\n",
              "       [0., 1., 0., 0., 0., 0., 0., 0., 0.],\n",
              "       [0., 1., 0., 0., 0., 0., 0., 0., 0.],\n",
              "       [0., 1., 0., 0., 0., 0., 0., 0., 0.],\n",
              "       [0., 1., 0., 0., 0., 0., 0., 0., 0.],\n",
              "       [0., 1., 0., 0., 0., 0., 0., 0., 0.],\n",
              "       [0., 0., 1., 0., 0., 0., 0., 0., 0.],\n",
              "       [0., 0., 1., 0., 0., 0., 0., 0., 0.],\n",
              "       [0., 0., 1., 0., 0., 0., 0., 0., 0.],\n",
              "       [0., 0., 1., 0., 0., 0., 0., 0., 0.],\n",
              "       [0., 0., 1., 0., 0., 0., 0., 0., 0.]], dtype=float32)"
            ]
          },
          "execution_count": 7,
          "metadata": {},
          "output_type": "execute_result"
        }
      ],
      "source": [
        "# label encoding\n",
        "from sklearn.preprocessing import LabelEncoder\n",
        "from tensorflow.keras.utils import to_categorical\n",
        "\n",
        "le = LabelEncoder()\n",
        "y_train = le.fit_transform(df.intents)\n",
        "y_train = to_categorical(y_train)\n",
        "y_train"
      ]
    },
    {
      "cell_type": "code",
      "execution_count": 8,
      "metadata": {
        "id": "kguNWg0XOEhw"
      },
      "outputs": [],
      "source": [
        "all_vocab = []\n",
        "length = []\n",
        "\n",
        "for idx, row in df.iterrows():\n",
        "    sent = row['text_input']\n",
        "    [all_vocab.append(i) for i in sent.split()]\n",
        "    length.append(len(sent.split()))"
      ]
    },
    {
      "cell_type": "code",
      "execution_count": 9,
      "metadata": {
        "colab": {
          "base_uri": "https://localhost:8080/"
        },
        "id": "Zc64akXtOOim",
        "outputId": "e0d24812-ced5-4c0c-e333-c1aef8f57323"
      },
      "outputs": [
        {
          "data": {
            "text/plain": [
              "75"
            ]
          },
          "execution_count": 9,
          "metadata": {},
          "output_type": "execute_result"
        }
      ],
      "source": [
        "len(all_vocab)"
      ]
    },
    {
      "cell_type": "code",
      "execution_count": 10,
      "metadata": {
        "colab": {
          "base_uri": "https://localhost:8080/"
        },
        "id": "QYEgNmDfOPdb",
        "outputId": "5681bd64-d093-4e4b-9621-363e22457d6c"
      },
      "outputs": [
        {
          "data": {
            "text/plain": [
              "3"
            ]
          },
          "execution_count": 10,
          "metadata": {},
          "output_type": "execute_result"
        }
      ],
      "source": [
        "max(length)"
      ]
    },
    {
      "cell_type": "code",
      "execution_count": 11,
      "metadata": {
        "colab": {
          "base_uri": "https://localhost:8080/"
        },
        "id": "y09ELBZdOTbw",
        "outputId": "df5dc1cc-84f8-41f0-ebbd-2fcd0703b926"
      },
      "outputs": [
        {
          "data": {
            "text/plain": [
              "66"
            ]
          },
          "execution_count": 11,
          "metadata": {},
          "output_type": "execute_result"
        }
      ],
      "source": [
        "len(set(all_vocab))"
      ]
    },
    {
      "cell_type": "code",
      "execution_count": 12,
      "metadata": {
        "id": "36RFSn8lOV10"
      },
      "outputs": [],
      "source": [
        "from tensorflow.keras.layers import TextVectorization\n",
        "\n",
        "max_vocab_length = 66\n",
        "max_length = 3\n",
        "\n",
        "text_vectorization = TextVectorization(max_tokens=max_vocab_length,\n",
        "                                       standardize='lower_and_strip_punctuation',\n",
        "                                       split='whitespace',\n",
        "                                       ngrams=None,\n",
        "                                       output_mode='int',\n",
        "                                       output_sequence_length=max_length\n",
        "                                       )"
      ]
    },
    {
      "cell_type": "code",
      "execution_count": 13,
      "metadata": {
        "id": "7QlOqFt5OcjZ"
      },
      "outputs": [],
      "source": [
        "text_vectorization.adapt(df.text_input)"
      ]
    },
    {
      "cell_type": "code",
      "execution_count": 14,
      "metadata": {
        "colab": {
          "base_uri": "https://localhost:8080/"
        },
        "id": "l82em_aAOf-g",
        "outputId": "e7119a81-b678-4a45-932b-a2084bfda534"
      },
      "outputs": [
        {
          "data": {
            "text/plain": [
              "['',\n",
              " '[UNK]',\n",
              " 'selamat',\n",
              " 'sedap',\n",
              " 'aja',\n",
              " 'assalamualaikum',\n",
              " 'apa',\n",
              " 'warahmatullahi',\n",
              " 'wabarakatuh',\n",
              " 'tiga',\n",
              " 'tidak',\n",
              " 'test',\n",
              " 'terima',\n",
              " 'sudah',\n",
              " 'sore',\n",
              " 'siang',\n",
              " 'seporsi',\n",
              " 'sempurna',\n",
              " 'selesai',\n",
              " 'sedia',\n",
              " 'satu',\n",
              " 'sangat',\n",
              " 'sampai',\n",
              " 'salam',\n",
              " 'saji',\n",
              " 'rasanya',\n",
              " 'porsi',\n",
              " 'ping',\n",
              " 'pilih',\n",
              " 'pesen',\n",
              " 'pesan',\n",
              " 'permisi',\n",
              " 'pengen',\n",
              " 'pagi',\n",
              " 'p',\n",
              " 'order',\n",
              " 'ngga',\n",
              " 'mesen',\n",
              " 'menyediakan',\n",
              " 'menyajikan',\n",
              " 'menu',\n",
              " 'memesan',\n",
              " 'mau',\n",
              " 'malam',\n",
              " 'luar',\n",
              " 'kurang',\n",
              " 'kasih',\n",
              " 'jumpa',\n",
              " 'itu',\n",
              " 'ini',\n",
              " 'ingin',\n",
              " 'hidangan',\n",
              " 'hi',\n",
              " 'halo',\n",
              " 'hai',\n",
              " 'enak',\n",
              " 'empat',\n",
              " 'dua',\n",
              " 'cukup',\n",
              " 'bye',\n",
              " 'buruk',\n",
              " 'biasa',\n",
              " 'baik',\n",
              " 'ada',\n",
              " '4',\n",
              " '3']"
            ]
          },
          "execution_count": 14,
          "metadata": {},
          "output_type": "execute_result"
        }
      ],
      "source": [
        "text_vectorization.get_vocabulary()"
      ]
    },
    {
      "cell_type": "code",
      "execution_count": 15,
      "metadata": {
        "colab": {
          "base_uri": "https://localhost:8080/",
          "height": 35
        },
        "id": "HxsBd6NfOicC",
        "outputId": "90b75144-6e8c-43cd-a4ae-199695c2ff11"
      },
      "outputs": [
        {
          "data": {
            "text/plain": [
              "'assalamualaikum'"
            ]
          },
          "execution_count": 15,
          "metadata": {},
          "output_type": "execute_result"
        }
      ],
      "source": [
        "text_vectorization.get_vocabulary()[5]"
      ]
    },
    {
      "cell_type": "code",
      "execution_count": 16,
      "metadata": {
        "id": "XRs0tLfWOtLo"
      },
      "outputs": [],
      "source": [
        "from tensorflow.keras.layers import Embedding\n",
        "embedding = Embedding(input_dim=max_vocab_length,\n",
        "                      output_dim=16,\n",
        "                      embeddings_initializer=\"uniform\",\n",
        "                      input_length=max_length)"
      ]
    },
    {
      "cell_type": "code",
      "execution_count": 17,
      "metadata": {
        "id": "9Cg3H7KZRoIb"
      },
      "outputs": [],
      "source": [
        "import numpy as np\n",
        "# modelling\n",
        "from tensorflow.keras import Model\n",
        "from tensorflow.keras.layers import Input, Dense, LSTM\n",
        "inputs = Input(shape=(1,), dtype='string')\n",
        "x = text_vectorization(inputs)\n",
        "x = embedding(x)\n",
        "x = LSTM(12)(x)\n",
        "outputs = Dense(9, activation='softmax')(x)\n",
        "model_lstm = Model(inputs, outputs, name=\"LSTM_model\")"
      ]
    },
    {
      "cell_type": "code",
      "execution_count": 18,
      "metadata": {
        "id": "YKS-87tzRsTE"
      },
      "outputs": [],
      "source": [
        "# compile model\n",
        "model_lstm.compile(loss='categorical_crossentropy',\n",
        "                   optimizer='adam',\n",
        "                   metrics=[\"accuracy\"])"
      ]
    },
    {
      "cell_type": "code",
      "execution_count": 19,
      "metadata": {
        "colab": {
          "base_uri": "https://localhost:8080/"
        },
        "id": "rweRskGGRvul",
        "outputId": "0e19afb0-8b49-4659-9f97-dab409f7a0c2"
      },
      "outputs": [
        {
          "data": {
            "text/plain": [
              "<keras.callbacks.History at 0x2aad0ea9610>"
            ]
          },
          "execution_count": 19,
          "metadata": {},
          "output_type": "execute_result"
        }
      ],
      "source": [
        "model_lstm.fit(df.text_input,\n",
        "               y_train,\n",
        "               epochs=250,\n",
        "               verbose=0)"
      ]
    },
    {
      "cell_type": "code",
      "execution_count": 20,
      "metadata": {
        "colab": {
          "base_uri": "https://localhost:8080/"
        },
        "id": "qdpdq4iZRz2r",
        "outputId": "7c2874dc-2c12-4b27-ae66-f6c54fefba2e"
      },
      "outputs": [
        {
          "name": "stdout",
          "output_type": "stream",
          "text": [
            "2/2 [==============================] - 0s 4ms/step - loss: 0.0625 - accuracy: 1.0000\n"
          ]
        },
        {
          "data": {
            "text/plain": [
              "[0.06253372132778168, 1.0]"
            ]
          },
          "execution_count": 20,
          "metadata": {},
          "output_type": "execute_result"
        }
      ],
      "source": [
        "model_lstm.evaluate(df.text_input, y_train)"
      ]
    },
    {
      "cell_type": "code",
      "execution_count": 21,
      "metadata": {
        "colab": {
          "base_uri": "https://localhost:8080/"
        },
        "id": "MDD9V1S9R27_",
        "outputId": "bdc39616-7b3e-4edd-9908-77adc222cd2e"
      },
      "outputs": [
        {
          "name": "stderr",
          "output_type": "stream",
          "text": [
            "WARNING:absl:Found untraced functions such as lstm_cell_layer_call_fn, lstm_cell_layer_call_and_return_conditional_losses, lstm_cell_layer_call_fn, lstm_cell_layer_call_and_return_conditional_losses, lstm_cell_layer_call_and_return_conditional_losses while saving (showing 5 of 5). These functions will not be directly callable after loading.\n"
          ]
        },
        {
          "name": "stdout",
          "output_type": "stream",
          "text": [
            "INFO:tensorflow:Assets written to: bot_model.tf\\assets\n"
          ]
        },
        {
          "name": "stderr",
          "output_type": "stream",
          "text": [
            "INFO:tensorflow:Assets written to: bot_model.tf\\assets\n",
            "WARNING:absl:<keras.layers.recurrent.LSTMCell object at 0x000002AAD0CD91F0> has the same name 'LSTMCell' as a built-in Keras object. Consider renaming <class 'keras.layers.recurrent.LSTMCell'> to avoid naming conflicts when loading with `tf.keras.models.load_model`. If renaming is not possible, pass the object in the `custom_objects` parameter of the load function.\n"
          ]
        }
      ],
      "source": [
        "model_lstm.save(\"bot_model.tf\")"
      ]
    },
    {
      "cell_type": "code",
      "execution_count": 22,
      "metadata": {
        "id": "OUZUjBv7R7OL"
      },
      "outputs": [],
      "source": [
        "import pickle\n",
        "le_filename = open(\"label_encoder.pickle\", \"wb\")\n",
        "pickle.dump(le, le_filename)\n",
        "le_filename.close()"
      ]
    }
  ],
  "metadata": {
    "colab": {
      "collapsed_sections": [],
      "name": "restobot.ipynb",
      "provenance": []
    },
    "kernelspec": {
      "display_name": "Python 3",
      "name": "python3"
    },
    "language_info": {
      "codemirror_mode": {
        "name": "ipython",
        "version": 3
      },
      "file_extension": ".py",
      "mimetype": "text/x-python",
      "name": "python",
      "nbconvert_exporter": "python",
      "pygments_lexer": "ipython3",
      "version": "3.8.8"
    }
  },
  "nbformat": 4,
  "nbformat_minor": 0
}
